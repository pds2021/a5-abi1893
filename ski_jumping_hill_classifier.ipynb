{
  "nbformat": 4,
  "nbformat_minor": 0,
  "metadata": {
    "colab": {
      "name": "ski_jumping_hill_classifier.ipynb",
      "provenance": [],
      "authorship_tag": "ABX9TyOYPnAGK0Em3CSwo66U2OSb",
      "include_colab_link": true
    },
    "kernelspec": {
      "name": "python3",
      "display_name": "Python 3"
    }
  },
  "cells": [
    {
      "cell_type": "markdown",
      "metadata": {
        "id": "view-in-github",
        "colab_type": "text"
      },
      "source": [
        "<a href=\"https://colab.research.google.com/github/pds2021/a5-abi1893/blob/assignment_5/ski_jumping_hill_classifier.ipynb\" target=\"_parent\"><img src=\"https://colab.research.google.com/assets/colab-badge.svg\" alt=\"Open In Colab\"/></a>"
      ]
    },
    {
      "cell_type": "markdown",
      "metadata": {
        "id": "O8zwE_UJxOlQ"
      },
      "source": [
        "# **Ski Jumping Hill Classifier**"
      ]
    },
    {
      "cell_type": "markdown",
      "metadata": {
        "id": "rDnSJMd4wRC3"
      },
      "source": [
        "Do you think all ski jumping hills of the four hills tournament look the same? So you have a picture of a hill but you have no idea where it is? Use this app and it will tell you the location."
      ]
    },
    {
      "cell_type": "code",
      "metadata": {
        "id": "wKq3KPFrxoi6"
      },
      "source": [
        "from fastai.vision.all import *\r\n",
        "from fastai.vision.widgets import *"
      ],
      "execution_count": null,
      "outputs": []
    },
    {
      "cell_type": "code",
      "metadata": {
        "id": "mPjJ_aT3x3HD"
      },
      "source": [
        "download_url('https://github.com/pds2021/a5-abi1893/releases/download/1/ski_jumping_hill_classifier.pkl', 'ski_jumping_hill_classifier.pkl')\r\n",
        "learn_inf = load_learner('ski_jumping_hill_classifier.pkl', cpu=True)\r\n",
        "\r\n",
        "btn_upload = widgets.FileUpload()\r\n",
        "btn_run = widgets.Button(description='Classify')\r\n",
        "out_pl = widgets.Output()\r\n",
        "lbl_pred = widgets.Label()\r\n",
        "\r\n",
        "def on_click_classify(change):\r\n",
        "    img = PILImage.create(btn_upload.data[-1])\r\n",
        "    out_pl.clear_output()\r\n",
        "    with out_pl: display(img.to_thumb(512,512))\r\n",
        "    pred,pred_idx,probs = learn_inf.predict(img)\r\n",
        "    lbl_pred.value = f'Prediction: {pred}; Probability: {probs[pred_idx]:.04f}'\r\n",
        "\r\n",
        "btn_run.on_click(on_click_classify)\r\n",
        "VBox([widgets.Label('Select your ski jumping hill!'), \r\n",
        "      btn_upload, btn_run, out_pl, lbl_pred])"
      ],
      "execution_count": null,
      "outputs": []
    }
  ]
}